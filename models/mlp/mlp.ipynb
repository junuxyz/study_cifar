{
 "cells": [
  {
   "cell_type": "markdown",
   "id": "f552be9f",
   "metadata": {},
   "source": [
    "## Vanilla 2 Layer MLP using CIFAR-10 as dataset"
   ]
  },
  {
   "cell_type": "code",
   "execution_count": 27,
   "id": "fe951083",
   "metadata": {},
   "outputs": [],
   "source": [
    "import torch\n",
    "import torchvision.datasets as datasets\n",
    "import torchvision.transforms as transforms\n",
    "from torch import nn, optim\n",
    "from torch.utils.data import DataLoader\n",
    "import numpy as np"
   ]
  },
  {
   "cell_type": "code",
   "execution_count": 28,
   "id": "28927583",
   "metadata": {},
   "outputs": [
    {
     "name": "stdout",
     "output_type": "stream",
     "text": [
      "Using device: cuda\n"
     ]
    }
   ],
   "source": [
    "device = torch.device(\"cuda\" if torch.cuda.is_available() else \"cpu\")\n",
    "print(f\"Using device: {device}\")"
   ]
  },
  {
   "cell_type": "markdown",
   "id": "37115625",
   "metadata": {},
   "source": [
    "## Preprocess (전처리)"
   ]
  },
  {
   "cell_type": "code",
   "execution_count": 29,
   "id": "f0b2b0a4",
   "metadata": {},
   "outputs": [],
   "source": [
    "# Simple transformation\n",
    "transform = transforms.Compose([\n",
    "    # Convert PIL Image to tensor\n",
    "    transforms.ToTensor(),\n",
    "    # Normalize the tensor to have mean 0.5 and std 0.5 for each channel\n",
    "    transforms.Normalize((0.5, 0.5, 0.5), (0.5, 0.5, 0.5)),\n",
    "    # Flatten the 3D tensor (C, H, W) to 1D tensor (C*H*W) for MLP input\n",
    "    transforms.Lambda(lambda x: x.view(-1)),\n",
    "])\n",
    "\n",
    "# Load CIFAR-10 train/test dataset and transform it\n",
    "train_set = datasets.CIFAR10(\n",
    "    root=\"../data\",\n",
    "    train=True,\n",
    "    download=True,\n",
    "    transform=transform)\n",
    "\n",
    "test_set = datasets.CIFAR10(\n",
    "    root=\"../data\",\n",
    "    train=False,\n",
    "    download=True,\n",
    "    transform=transform)"
   ]
  },
  {
   "cell_type": "code",
   "execution_count": 30,
   "id": "59cc3609",
   "metadata": {},
   "outputs": [],
   "source": [
    "# Data loaders for batch learning\n",
    "\n",
    "BATCH_SIZE = 64\n",
    "\n",
    "train_loader = DataLoader(\n",
    "    dataset=train_set,\n",
    "    batch_size=BATCH_SIZE,\n",
    "    shuffle=True)\n",
    "\n",
    "test_loader = DataLoader(\n",
    "    dataset=test_set,\n",
    "    batch_size=BATCH_SIZE,\n",
    "    shuffle=False)"
   ]
  },
  {
   "cell_type": "markdown",
   "id": "1938e72e",
   "metadata": {},
   "source": [
    "## Define Neural Network"
   ]
  },
  {
   "cell_type": "code",
   "execution_count": 31,
   "id": "b5096c43",
   "metadata": {},
   "outputs": [
    {
     "name": "stdout",
     "output_type": "stream",
     "text": [
      " n_input: 3072,\n",
      " n_hidden: 256,\n",
      " n_output: 10\n"
     ]
    }
   ],
   "source": [
    "n_input = 32 * 32 * 3\n",
    "n_hidden = 256\n",
    "n_output = test_set.classes.__len__() # 10 classes\n",
    "print(f\" n_input: {n_input},\\n n_hidden: {n_hidden},\\n n_output: {n_output}\")"
   ]
  },
  {
   "cell_type": "code",
   "execution_count": 32,
   "id": "7832432e",
   "metadata": {},
   "outputs": [],
   "source": [
    "class MLP(nn.Module):\n",
    "    # define each layers\n",
    "    def __init__(self, n_input, n_hidden, n_output):\n",
    "        super().__init__()\n",
    "        self.fc1 = nn.Linear(n_input, n_hidden)\n",
    "        self.fc2 = nn.Linear(n_hidden, n_output)\n",
    "        self.relu = nn.ReLU(inplace=True)\n",
    "\n",
    "    # define the forward pass\n",
    "    # x is input tensor\n",
    "    def forward(self, x):\n",
    "        out = self.fc1(x)\n",
    "        out = self.relu(out)\n",
    "        out = self.fc2(out)\n",
    "        return out"
   ]
  },
  {
   "cell_type": "code",
   "execution_count": 33,
   "id": "00142426",
   "metadata": {},
   "outputs": [
    {
     "name": "stdout",
     "output_type": "stream",
     "text": [
      "MLP(\n",
      "  (fc1): Linear(in_features=3072, out_features=256, bias=True)\n",
      "  (fc2): Linear(in_features=256, out_features=10, bias=True)\n",
      "  (relu): ReLU(inplace=True)\n",
      ")\n"
     ]
    }
   ],
   "source": [
    "net = MLP(n_input, n_hidden, n_output).to(device)\n",
    "print(net)"
   ]
  },
  {
   "cell_type": "code",
   "execution_count": 34,
   "id": "53fb6990",
   "metadata": {},
   "outputs": [
    {
     "name": "stdout",
     "output_type": "stream",
     "text": [
      "('fc1.weight', Parameter containing:\n",
      "tensor([[ 0.0031,  0.0068,  0.0025,  ...,  0.0086, -0.0158, -0.0025],\n",
      "        [ 0.0171,  0.0099, -0.0173,  ...,  0.0106,  0.0013,  0.0028],\n",
      "        [-0.0174, -0.0122, -0.0165,  ...,  0.0052,  0.0111, -0.0138],\n",
      "        ...,\n",
      "        [-0.0169,  0.0121,  0.0001,  ...,  0.0094,  0.0155, -0.0036],\n",
      "        [-0.0117,  0.0064, -0.0048,  ..., -0.0144,  0.0096,  0.0147],\n",
      "        [ 0.0101, -0.0067,  0.0116,  ..., -0.0033,  0.0015, -0.0133]],\n",
      "       device='cuda:0', requires_grad=True))\n",
      "('fc1.bias', Parameter containing:\n",
      "tensor([ 4.6962e-03, -8.8282e-03, -6.2503e-04, -9.7158e-03,  1.3028e-02,\n",
      "        -2.3707e-03,  1.0464e-02,  5.5914e-04,  8.6069e-03, -7.9907e-03,\n",
      "         3.0410e-03, -1.4071e-02, -4.2286e-03, -1.6780e-02, -1.1409e-02,\n",
      "        -6.9428e-03, -8.3330e-03,  7.1488e-04,  1.0912e-02,  1.6824e-02,\n",
      "         3.3637e-03,  6.4993e-05,  5.5351e-03,  1.3842e-02,  9.9244e-03,\n",
      "        -6.5741e-03,  1.3434e-02, -4.6620e-03, -1.0820e-02,  1.5454e-02,\n",
      "        -1.0924e-02,  8.9361e-03,  6.6875e-03,  9.1159e-03, -1.5673e-02,\n",
      "         1.3632e-03, -6.7965e-03,  1.6155e-03,  4.1422e-03,  1.3212e-02,\n",
      "        -1.0210e-02,  1.4765e-03,  8.3481e-03,  1.5557e-02, -6.2731e-03,\n",
      "         8.4121e-03, -1.1538e-02,  2.8054e-04, -7.3203e-03,  1.0534e-02,\n",
      "        -1.6218e-02, -7.6247e-03,  3.5182e-04, -1.1560e-02,  1.2010e-02,\n",
      "        -2.5132e-03,  1.3881e-02, -7.1386e-04,  2.6679e-03,  9.4816e-03,\n",
      "         1.1246e-02,  1.2070e-02, -9.4898e-03,  1.2993e-02, -5.4351e-03,\n",
      "         1.1814e-02,  1.0734e-03, -7.3840e-03, -1.2087e-02, -1.5861e-02,\n",
      "         5.7311e-03, -1.5365e-02, -1.0760e-03,  1.5487e-02,  1.1230e-02,\n",
      "        -1.9432e-03, -1.0791e-02, -1.1125e-02, -5.7574e-03,  8.1505e-03,\n",
      "         1.4806e-02,  1.2131e-02, -1.6852e-02, -1.0960e-02,  1.7098e-02,\n",
      "         7.2966e-03,  1.5932e-02,  1.1311e-02,  1.2323e-02,  4.5043e-03,\n",
      "         9.4739e-03, -1.6083e-02, -5.9353e-03,  8.3407e-03,  5.2435e-04,\n",
      "         1.7877e-02,  1.7130e-02, -6.7063e-03,  3.0529e-03,  5.9860e-03,\n",
      "        -9.8948e-03, -1.4529e-02,  4.2649e-03, -7.2000e-03, -1.6313e-02,\n",
      "         1.1305e-03,  1.0076e-02, -1.6953e-02,  3.1921e-03, -3.8374e-03,\n",
      "         5.7651e-03, -1.1726e-02,  3.1703e-03, -9.8047e-03,  1.0814e-02,\n",
      "        -3.0377e-03,  3.8024e-03,  5.5125e-03, -1.4791e-03, -6.0629e-03,\n",
      "        -6.1514e-03,  3.7256e-03, -5.6102e-03, -1.5420e-02, -1.2117e-02,\n",
      "        -4.8802e-03,  1.4361e-02,  9.0065e-03, -9.2928e-03, -1.5202e-02,\n",
      "         1.4073e-02,  1.5667e-02, -9.8135e-03,  1.2138e-02, -1.7911e-03,\n",
      "         1.6849e-02, -1.7916e-02, -3.6199e-03,  1.0930e-02,  1.6880e-02,\n",
      "         2.3866e-03,  8.8994e-03,  9.1741e-03, -1.1740e-02,  2.4762e-03,\n",
      "        -9.8660e-03, -1.5612e-02,  3.0686e-03,  5.5172e-03, -9.0732e-03,\n",
      "        -1.0841e-02,  9.5042e-03, -1.1404e-02,  7.4313e-03, -1.7035e-02,\n",
      "         5.4711e-03, -6.6531e-03,  3.6056e-03, -1.7782e-02, -4.9920e-04,\n",
      "        -1.3532e-02,  7.5699e-03,  1.7975e-02, -7.9797e-03,  4.5653e-04,\n",
      "        -4.4997e-03,  3.6646e-03, -5.9023e-03, -1.0586e-02,  1.2125e-02,\n",
      "         3.6574e-03, -1.3641e-02,  1.9295e-03,  1.0600e-02,  4.1259e-03,\n",
      "        -1.5858e-02, -1.7437e-02, -3.1487e-03,  8.6876e-03, -6.8801e-03,\n",
      "        -6.3262e-03, -1.0848e-02,  9.8248e-03, -1.5510e-02,  2.8520e-03,\n",
      "        -8.4096e-03,  1.0728e-02,  1.8169e-03, -1.6275e-02, -2.3499e-03,\n",
      "         1.2749e-02, -2.9294e-03, -5.8759e-03, -4.4424e-03,  8.6024e-03,\n",
      "         7.6619e-03,  1.3090e-02, -1.3141e-02,  4.4896e-04,  3.6503e-03,\n",
      "        -2.8197e-06,  4.3282e-03,  1.0758e-02, -6.4062e-03,  4.3118e-03,\n",
      "         5.6917e-03, -4.1610e-03, -6.1332e-03, -1.1348e-02,  7.2563e-03,\n",
      "        -6.4869e-03, -6.2801e-03, -1.7589e-02, -1.1586e-02,  1.6934e-02,\n",
      "         1.3179e-02,  1.5322e-02, -4.9869e-03,  1.3015e-02,  1.2215e-02,\n",
      "         3.0902e-03,  1.7528e-02, -1.0851e-03, -5.5496e-03,  9.9798e-03,\n",
      "        -1.5841e-02,  1.6027e-03,  1.4063e-02,  1.0563e-02,  1.1215e-02,\n",
      "        -1.3187e-02,  1.0225e-02, -1.6070e-03, -4.0001e-03,  1.4355e-02,\n",
      "         1.2172e-02, -9.5654e-03,  7.3130e-03, -7.3667e-03, -9.3873e-03,\n",
      "        -1.6676e-02, -4.5601e-03, -3.9867e-03, -7.5719e-04,  1.4923e-02,\n",
      "        -6.3031e-03,  8.0172e-03,  1.0906e-02,  2.2898e-03, -2.8583e-03,\n",
      "         1.7649e-02, -3.6651e-03, -2.2310e-04, -3.2047e-03, -4.1449e-03,\n",
      "        -1.1619e-02], device='cuda:0', requires_grad=True))\n",
      "('fc2.weight', Parameter containing:\n",
      "tensor([[-0.0242, -0.0234, -0.0625,  ...,  0.0114, -0.0257, -0.0298],\n",
      "        [-0.0319,  0.0201,  0.0306,  ...,  0.0144,  0.0417, -0.0105],\n",
      "        [-0.0585, -0.0290,  0.0465,  ...,  0.0252, -0.0389,  0.0253],\n",
      "        ...,\n",
      "        [-0.0589, -0.0279, -0.0510,  ..., -0.0222,  0.0492, -0.0560],\n",
      "        [-0.0210, -0.0467, -0.0310,  ...,  0.0155, -0.0098, -0.0426],\n",
      "        [-0.0262,  0.0235,  0.0458,  ..., -0.0571, -0.0120,  0.0239]],\n",
      "       device='cuda:0', requires_grad=True))\n",
      "('fc2.bias', Parameter containing:\n",
      "tensor([-0.0135, -0.0545, -0.0454, -0.0504, -0.0515, -0.0144, -0.0352, -0.0558,\n",
      "        -0.0416, -0.0300], device='cuda:0', requires_grad=True))\n"
     ]
    }
   ],
   "source": [
    "for parameter in net.named_parameters():\n",
    "    print(parameter)"
   ]
  },
  {
   "cell_type": "markdown",
   "id": "16531673",
   "metadata": {},
   "source": [
    "## Define Loss Function and Optimizer"
   ]
  },
  {
   "cell_type": "code",
   "execution_count": 35,
   "id": "93bb0d1d",
   "metadata": {},
   "outputs": [],
   "source": [
    "# Define loss function and optimizer\n",
    "criterion = nn.CrossEntropyLoss()\n",
    "LEARNING_RATE = 0.01\n",
    "optimizer = optim.SGD(net.parameters(), lr=LEARNING_RATE)"
   ]
  },
  {
   "cell_type": "code",
   "execution_count": 36,
   "id": "3f9edf63",
   "metadata": {},
   "outputs": [],
   "source": [
    "# Training loop\n",
    "EPOCHS = 30\n",
    "history = np.zeros((0,5))"
   ]
  },
  {
   "cell_type": "markdown",
   "id": "01ebcf80",
   "metadata": {},
   "source": [
    "## Train and Test the Model"
   ]
  },
  {
   "cell_type": "code",
   "execution_count": 37,
   "id": "023137e8",
   "metadata": {},
   "outputs": [
    {
     "data": {
      "application/vnd.jupyter.widget-view+json": {
       "model_id": "b4e635626bce47719be39ba0b3fdb38a",
       "version_major": 2,
       "version_minor": 0
      },
      "text/plain": [
       "  0%|          | 0/782 [00:00<?, ?it/s]"
      ]
     },
     "metadata": {},
     "output_type": "display_data"
    },
    {
     "name": "stdout",
     "output_type": "stream",
     "text": [
      "Epoch 1/30,         train loss: 1.8819,         train acc: 0.3443,         val loss: 1.7263,         val acc: 0.4020\n"
     ]
    },
    {
     "data": {
      "application/vnd.jupyter.widget-view+json": {
       "model_id": "1edc90accb0c4956abb88408b1a548e4",
       "version_major": 2,
       "version_minor": 0
      },
      "text/plain": [
       "  0%|          | 0/782 [00:00<?, ?it/s]"
      ]
     },
     "metadata": {},
     "output_type": "display_data"
    },
    {
     "name": "stdout",
     "output_type": "stream",
     "text": [
      "Epoch 2/30,         train loss: 1.6626,         train acc: 0.4213,         val loss: 1.6283,         val acc: 0.4345\n"
     ]
    },
    {
     "data": {
      "application/vnd.jupyter.widget-view+json": {
       "model_id": "dfa934e08bd5468d86f6cb842114f93c",
       "version_major": 2,
       "version_minor": 0
      },
      "text/plain": [
       "  0%|          | 0/782 [00:00<?, ?it/s]"
      ]
     },
     "metadata": {},
     "output_type": "display_data"
    },
    {
     "name": "stdout",
     "output_type": "stream",
     "text": [
      "Epoch 3/30,         train loss: 1.5800,         train acc: 0.4503,         val loss: 1.5647,         val acc: 0.4572\n"
     ]
    },
    {
     "data": {
      "application/vnd.jupyter.widget-view+json": {
       "model_id": "e46173d51c95477c831e98c6434836d3",
       "version_major": 2,
       "version_minor": 0
      },
      "text/plain": [
       "  0%|          | 0/782 [00:00<?, ?it/s]"
      ]
     },
     "metadata": {},
     "output_type": "display_data"
    },
    {
     "name": "stdout",
     "output_type": "stream",
     "text": [
      "Epoch 4/30,         train loss: 1.5258,         train acc: 0.4694,         val loss: 1.5270,         val acc: 0.4691\n"
     ]
    },
    {
     "data": {
      "application/vnd.jupyter.widget-view+json": {
       "model_id": "136dd96259e148e1b80f7ba0cae59bf6",
       "version_major": 2,
       "version_minor": 0
      },
      "text/plain": [
       "  0%|          | 0/782 [00:00<?, ?it/s]"
      ]
     },
     "metadata": {},
     "output_type": "display_data"
    },
    {
     "name": "stdout",
     "output_type": "stream",
     "text": [
      "Epoch 5/30,         train loss: 1.4834,         train acc: 0.4859,         val loss: 1.5010,         val acc: 0.4828\n"
     ]
    },
    {
     "data": {
      "application/vnd.jupyter.widget-view+json": {
       "model_id": "a623e3177d344821a1a0766c0fce16f2",
       "version_major": 2,
       "version_minor": 0
      },
      "text/plain": [
       "  0%|          | 0/782 [00:00<?, ?it/s]"
      ]
     },
     "metadata": {},
     "output_type": "display_data"
    },
    {
     "name": "stdout",
     "output_type": "stream",
     "text": [
      "Epoch 6/30,         train loss: 1.4458,         train acc: 0.4992,         val loss: 1.4736,         val acc: 0.4858\n"
     ]
    },
    {
     "data": {
      "application/vnd.jupyter.widget-view+json": {
       "model_id": "1960c4b8b8e447b8848aac5c759ebec5",
       "version_major": 2,
       "version_minor": 0
      },
      "text/plain": [
       "  0%|          | 0/782 [00:00<?, ?it/s]"
      ]
     },
     "metadata": {},
     "output_type": "display_data"
    },
    {
     "name": "stdout",
     "output_type": "stream",
     "text": [
      "Epoch 7/30,         train loss: 1.4119,         train acc: 0.5120,         val loss: 1.4506,         val acc: 0.4952\n"
     ]
    },
    {
     "data": {
      "application/vnd.jupyter.widget-view+json": {
       "model_id": "3626300bf1f44cd9a57d8f88b0ba2874",
       "version_major": 2,
       "version_minor": 0
      },
      "text/plain": [
       "  0%|          | 0/782 [00:00<?, ?it/s]"
      ]
     },
     "metadata": {},
     "output_type": "display_data"
    },
    {
     "name": "stdout",
     "output_type": "stream",
     "text": [
      "Epoch 8/30,         train loss: 1.3816,         train acc: 0.5239,         val loss: 1.4311,         val acc: 0.5027\n"
     ]
    },
    {
     "data": {
      "application/vnd.jupyter.widget-view+json": {
       "model_id": "1d2bbfeac9264bb994afd9906ef9bf50",
       "version_major": 2,
       "version_minor": 0
      },
      "text/plain": [
       "  0%|          | 0/782 [00:00<?, ?it/s]"
      ]
     },
     "metadata": {},
     "output_type": "display_data"
    },
    {
     "name": "stdout",
     "output_type": "stream",
     "text": [
      "Epoch 9/30,         train loss: 1.3515,         train acc: 0.5340,         val loss: 1.4203,         val acc: 0.5026\n"
     ]
    },
    {
     "data": {
      "application/vnd.jupyter.widget-view+json": {
       "model_id": "8e85d5c7c9aa4d9696cb3b248c82f1f9",
       "version_major": 2,
       "version_minor": 0
      },
      "text/plain": [
       "  0%|          | 0/782 [00:00<?, ?it/s]"
      ]
     },
     "metadata": {},
     "output_type": "display_data"
    },
    {
     "name": "stdout",
     "output_type": "stream",
     "text": [
      "Epoch 10/30,         train loss: 1.3254,         train acc: 0.5455,         val loss: 1.4100,         val acc: 0.5044\n"
     ]
    },
    {
     "data": {
      "application/vnd.jupyter.widget-view+json": {
       "model_id": "5ebdee058e3842c5baad22b6284cde17",
       "version_major": 2,
       "version_minor": 0
      },
      "text/plain": [
       "  0%|          | 0/782 [00:00<?, ?it/s]"
      ]
     },
     "metadata": {},
     "output_type": "display_data"
    },
    {
     "name": "stdout",
     "output_type": "stream",
     "text": [
      "Epoch 11/30,         train loss: 1.2996,         train acc: 0.5559,         val loss: 1.4041,         val acc: 0.5092\n"
     ]
    },
    {
     "data": {
      "application/vnd.jupyter.widget-view+json": {
       "model_id": "6dcd3fec9f4945938042fc25cd2ded04",
       "version_major": 2,
       "version_minor": 0
      },
      "text/plain": [
       "  0%|          | 0/782 [00:00<?, ?it/s]"
      ]
     },
     "metadata": {},
     "output_type": "display_data"
    },
    {
     "name": "stdout",
     "output_type": "stream",
     "text": [
      "Epoch 12/30,         train loss: 1.2772,         train acc: 0.5633,         val loss: 1.3836,         val acc: 0.5152\n"
     ]
    },
    {
     "data": {
      "application/vnd.jupyter.widget-view+json": {
       "model_id": "3c69264d82454a91a8bc08b02b3d5ffa",
       "version_major": 2,
       "version_minor": 0
      },
      "text/plain": [
       "  0%|          | 0/782 [00:00<?, ?it/s]"
      ]
     },
     "metadata": {},
     "output_type": "display_data"
    },
    {
     "name": "stdout",
     "output_type": "stream",
     "text": [
      "Epoch 13/30,         train loss: 1.2535,         train acc: 0.5714,         val loss: 1.3731,         val acc: 0.5195\n"
     ]
    },
    {
     "data": {
      "application/vnd.jupyter.widget-view+json": {
       "model_id": "cfc3a6e9d6f042dfab80caada1db8f33",
       "version_major": 2,
       "version_minor": 0
      },
      "text/plain": [
       "  0%|          | 0/782 [00:00<?, ?it/s]"
      ]
     },
     "metadata": {},
     "output_type": "display_data"
    },
    {
     "name": "stdout",
     "output_type": "stream",
     "text": [
      "Epoch 14/30,         train loss: 1.2305,         train acc: 0.5788,         val loss: 1.3768,         val acc: 0.5170\n"
     ]
    },
    {
     "data": {
      "application/vnd.jupyter.widget-view+json": {
       "model_id": "d8cbb811758247aa9837e0b48569c6f2",
       "version_major": 2,
       "version_minor": 0
      },
      "text/plain": [
       "  0%|          | 0/782 [00:00<?, ?it/s]"
      ]
     },
     "metadata": {},
     "output_type": "display_data"
    },
    {
     "name": "stdout",
     "output_type": "stream",
     "text": [
      "Epoch 15/30,         train loss: 1.2101,         train acc: 0.5871,         val loss: 1.3651,         val acc: 0.5205\n"
     ]
    },
    {
     "data": {
      "application/vnd.jupyter.widget-view+json": {
       "model_id": "7d0d57f85932454989a522f58b7e813e",
       "version_major": 2,
       "version_minor": 0
      },
      "text/plain": [
       "  0%|          | 0/782 [00:00<?, ?it/s]"
      ]
     },
     "metadata": {},
     "output_type": "display_data"
    },
    {
     "name": "stdout",
     "output_type": "stream",
     "text": [
      "Epoch 16/30,         train loss: 1.1896,         train acc: 0.5948,         val loss: 1.3644,         val acc: 0.5212\n"
     ]
    },
    {
     "data": {
      "application/vnd.jupyter.widget-view+json": {
       "model_id": "f267e0737f35462e9f8c8bade276b41a",
       "version_major": 2,
       "version_minor": 0
      },
      "text/plain": [
       "  0%|          | 0/782 [00:00<?, ?it/s]"
      ]
     },
     "metadata": {},
     "output_type": "display_data"
    },
    {
     "name": "stdout",
     "output_type": "stream",
     "text": [
      "Epoch 17/30,         train loss: 1.1717,         train acc: 0.6011,         val loss: 1.3685,         val acc: 0.5213\n"
     ]
    },
    {
     "data": {
      "application/vnd.jupyter.widget-view+json": {
       "model_id": "2b29b81d9a71474daaf6131211148c3e",
       "version_major": 2,
       "version_minor": 0
      },
      "text/plain": [
       "  0%|          | 0/782 [00:00<?, ?it/s]"
      ]
     },
     "metadata": {},
     "output_type": "display_data"
    },
    {
     "name": "stdout",
     "output_type": "stream",
     "text": [
      "Epoch 18/30,         train loss: 1.1512,         train acc: 0.6089,         val loss: 1.3542,         val acc: 0.5230\n"
     ]
    },
    {
     "data": {
      "application/vnd.jupyter.widget-view+json": {
       "model_id": "364292293c6943c495906ba324a8d5ec",
       "version_major": 2,
       "version_minor": 0
      },
      "text/plain": [
       "  0%|          | 0/782 [00:00<?, ?it/s]"
      ]
     },
     "metadata": {},
     "output_type": "display_data"
    },
    {
     "name": "stdout",
     "output_type": "stream",
     "text": [
      "Epoch 19/30,         train loss: 1.1326,         train acc: 0.6133,         val loss: 1.3507,         val acc: 0.5286\n"
     ]
    },
    {
     "data": {
      "application/vnd.jupyter.widget-view+json": {
       "model_id": "aaeb8a2cfee640fc983c9f496ee05e79",
       "version_major": 2,
       "version_minor": 0
      },
      "text/plain": [
       "  0%|          | 0/782 [00:00<?, ?it/s]"
      ]
     },
     "metadata": {},
     "output_type": "display_data"
    },
    {
     "name": "stdout",
     "output_type": "stream",
     "text": [
      "Epoch 20/30,         train loss: 1.1137,         train acc: 0.6229,         val loss: 1.3509,         val acc: 0.5261\n"
     ]
    },
    {
     "data": {
      "application/vnd.jupyter.widget-view+json": {
       "model_id": "85d9d42257f84961b21b6572e5457f0b",
       "version_major": 2,
       "version_minor": 0
      },
      "text/plain": [
       "  0%|          | 0/782 [00:00<?, ?it/s]"
      ]
     },
     "metadata": {},
     "output_type": "display_data"
    },
    {
     "name": "stdout",
     "output_type": "stream",
     "text": [
      "Epoch 21/30,         train loss: 1.0960,         train acc: 0.6291,         val loss: 1.3509,         val acc: 0.5284\n"
     ]
    },
    {
     "data": {
      "application/vnd.jupyter.widget-view+json": {
       "model_id": "21f2a1f7311a4024a346f9cf90954059",
       "version_major": 2,
       "version_minor": 0
      },
      "text/plain": [
       "  0%|          | 0/782 [00:00<?, ?it/s]"
      ]
     },
     "metadata": {},
     "output_type": "display_data"
    },
    {
     "name": "stdout",
     "output_type": "stream",
     "text": [
      "Epoch 22/30,         train loss: 1.0783,         train acc: 0.6349,         val loss: 1.3356,         val acc: 0.5318\n"
     ]
    },
    {
     "data": {
      "application/vnd.jupyter.widget-view+json": {
       "model_id": "2d4f9ebdea6a452693249e42b85a8bcb",
       "version_major": 2,
       "version_minor": 0
      },
      "text/plain": [
       "  0%|          | 0/782 [00:00<?, ?it/s]"
      ]
     },
     "metadata": {},
     "output_type": "display_data"
    },
    {
     "name": "stdout",
     "output_type": "stream",
     "text": [
      "Epoch 23/30,         train loss: 1.0615,         train acc: 0.6401,         val loss: 1.3508,         val acc: 0.5272\n"
     ]
    },
    {
     "data": {
      "application/vnd.jupyter.widget-view+json": {
       "model_id": "590f49a6ff0c4d92a587a4566fff2338",
       "version_major": 2,
       "version_minor": 0
      },
      "text/plain": [
       "  0%|          | 0/782 [00:00<?, ?it/s]"
      ]
     },
     "metadata": {},
     "output_type": "display_data"
    },
    {
     "name": "stdout",
     "output_type": "stream",
     "text": [
      "Epoch 24/30,         train loss: 1.0439,         train acc: 0.6482,         val loss: 1.3541,         val acc: 0.5285\n"
     ]
    },
    {
     "data": {
      "application/vnd.jupyter.widget-view+json": {
       "model_id": "466a67af46524055b5f31b79496e05e6",
       "version_major": 2,
       "version_minor": 0
      },
      "text/plain": [
       "  0%|          | 0/782 [00:00<?, ?it/s]"
      ]
     },
     "metadata": {},
     "output_type": "display_data"
    },
    {
     "name": "stdout",
     "output_type": "stream",
     "text": [
      "Epoch 25/30,         train loss: 1.0272,         train acc: 0.6536,         val loss: 1.3388,         val acc: 0.5376\n"
     ]
    },
    {
     "data": {
      "application/vnd.jupyter.widget-view+json": {
       "model_id": "e687e7939edb45e080fae402919ac67c",
       "version_major": 2,
       "version_minor": 0
      },
      "text/plain": [
       "  0%|          | 0/782 [00:00<?, ?it/s]"
      ]
     },
     "metadata": {},
     "output_type": "display_data"
    },
    {
     "name": "stdout",
     "output_type": "stream",
     "text": [
      "Epoch 26/30,         train loss: 1.0113,         train acc: 0.6615,         val loss: 1.3617,         val acc: 0.5331\n"
     ]
    },
    {
     "data": {
      "application/vnd.jupyter.widget-view+json": {
       "model_id": "d89a4b617bcf4b9a85fe30426c387820",
       "version_major": 2,
       "version_minor": 0
      },
      "text/plain": [
       "  0%|          | 0/782 [00:00<?, ?it/s]"
      ]
     },
     "metadata": {},
     "output_type": "display_data"
    },
    {
     "name": "stdout",
     "output_type": "stream",
     "text": [
      "Epoch 27/30,         train loss: 0.9952,         train acc: 0.6652,         val loss: 1.3512,         val acc: 0.5339\n"
     ]
    },
    {
     "data": {
      "application/vnd.jupyter.widget-view+json": {
       "model_id": "bfff6605f1f14e2586027bd99b689903",
       "version_major": 2,
       "version_minor": 0
      },
      "text/plain": [
       "  0%|          | 0/782 [00:00<?, ?it/s]"
      ]
     },
     "metadata": {},
     "output_type": "display_data"
    },
    {
     "name": "stdout",
     "output_type": "stream",
     "text": [
      "Epoch 28/30,         train loss: 0.9805,         train acc: 0.6710,         val loss: 1.3515,         val acc: 0.5326\n"
     ]
    },
    {
     "data": {
      "application/vnd.jupyter.widget-view+json": {
       "model_id": "a6404b9f285e4346a827f81e75fd1b8a",
       "version_major": 2,
       "version_minor": 0
      },
      "text/plain": [
       "  0%|          | 0/782 [00:00<?, ?it/s]"
      ]
     },
     "metadata": {},
     "output_type": "display_data"
    },
    {
     "name": "stdout",
     "output_type": "stream",
     "text": [
      "Epoch 29/30,         train loss: 0.9645,         train acc: 0.6753,         val loss: 1.3819,         val acc: 0.5253\n"
     ]
    },
    {
     "data": {
      "application/vnd.jupyter.widget-view+json": {
       "model_id": "4086ce92b48d45dc87f7856104cc3875",
       "version_major": 2,
       "version_minor": 0
      },
      "text/plain": [
       "  0%|          | 0/782 [00:00<?, ?it/s]"
      ]
     },
     "metadata": {},
     "output_type": "display_data"
    },
    {
     "name": "stdout",
     "output_type": "stream",
     "text": [
      "Epoch 30/30,         train loss: 0.9490,         train acc: 0.6831,         val loss: 1.3531,         val acc: 0.5363\n"
     ]
    }
   ],
   "source": [
    "from tqdm.notebook import tqdm\n",
    "for epoch in range(EPOCHS):\n",
    "    train_correct, train_loss = 0, 0\n",
    "    val_correct, val_loss = 0, 0\n",
    "    n_train, n_test = 0, 0\n",
    "\n",
    "    net.train()\n",
    "    for inputs, labels in tqdm(train_loader):\n",
    "        # recap: train loader yields batches (each size of 64) of (inputs, labels)\n",
    "        # len(labels) = train_dataset / batch_size = 50000 / 64 = 781.25 -> 782 batches\n",
    "        n_train += len(labels)\n",
    "\n",
    "        # sends variables to device(gpu)\n",
    "        inputs, labels = inputs.to(device), labels.to(device)\n",
    "        optimizer.zero_grad()\n",
    "\n",
    "        # output(result of net) is already a tensor thus no need to move to device\n",
    "        outputs = net(inputs) # (64, 10)\n",
    "        loss = criterion(outputs, labels)\n",
    "        # backprop\n",
    "        loss.backward()\n",
    "        # update parameters\n",
    "        optimizer.step()\n",
    "\n",
    "        # torch .argmax returns the indices of the maximum \n",
    "        # value of all elements in the input tensor\n",
    "        # dim=1 indicates that the max is computed along each row\n",
    "        predicted = torch.argmax(outputs, dim=1)\n",
    "        # use .item() to get a python number from a tensor type\n",
    "        # this collects the total loss in a batch(size of 64) and accumulated 782 times(total batches)\n",
    "        # IMPORTANT: loss.item() gives the average loss per sample in the batch so we need to multiply by batch size to get total loss\n",
    "        train_loss += loss.item() * BATCH_SIZE\n",
    "        # collects the number of correct predictions in a batch(size of 64)\n",
    "        train_correct += (predicted == labels).sum().item()\n",
    "    \n",
    "    net.eval()\n",
    "    with torch.no_grad():\n",
    "        for inputs_test, labels_test in test_loader:\n",
    "            # len(labels_test) = test_dataset / batch_size = 10000 / 64 = 156.25 -> 157 batches\n",
    "            n_test += len(labels_test)\n",
    "            inputs_test, labels_test = inputs_test.to(device), labels_test.to(device)\n",
    "            outputs_test = net(inputs_test)\n",
    "            loss_test = criterion(outputs_test, labels_test)\n",
    "\n",
    "            predicted_test = torch.argmax(outputs_test, dim=1)\n",
    "            val_loss += loss_test.item() * BATCH_SIZE\n",
    "            val_correct += (predicted_test == labels_test).sum().item()\n",
    "        \n",
    "    train_loss = train_loss / n_train\n",
    "    val_loss = val_loss / n_test\n",
    "    train_acc = train_correct / n_train\n",
    "    val_acc = val_correct / n_test\n",
    "\n",
    "    print(f\"Epoch {epoch+1}/{EPOCHS}, \\\n",
    "        train loss: {train_loss:.4f}, \\\n",
    "        train acc: {train_acc:.4f}, \\\n",
    "        val loss: {val_loss:.4f}, \\\n",
    "        val acc: {val_acc:.4f}\")\n",
    "\n",
    "    history = np.vstack((\n",
    "    history,\n",
    "    np.array([epoch+1, train_loss, train_acc, val_loss, val_acc])\n",
    "    ))\n"
   ]
  },
  {
   "cell_type": "markdown",
   "id": "13eda83a",
   "metadata": {},
   "source": [
    "## Visualize and Assess Result"
   ]
  },
  {
   "cell_type": "code",
   "execution_count": 38,
   "id": "56d2bee7",
   "metadata": {},
   "outputs": [
    {
     "data": {
      "image/png": "[encoded data removed]",
      "text/plain": [
       "<Figure size 1200x500 with 2 Axes>"
      ]
     },
     "metadata": {},
     "output_type": "display_data"
    }
   ],
   "source": [
    "from matplotlib import pyplot as plt\n",
    "plt.figure(figsize=(12,5))\n",
    "plt.subplot(1,2,1)\n",
    "plt.plot(history[:,0], history[:,1], label='Train Loss')\n",
    "plt.plot(history[:,0], history[:,3], label='Validation Loss')\n",
    "plt.xlabel('Epoch')\n",
    "plt.ylabel('Loss')\n",
    "plt.legend()\n",
    "plt.subplot(1,2,2)\n",
    "plt.plot(history[:,0], history[:,2], label='Train Accuracy')\n",
    "plt.plot(history[:,0], history[:,4], label='Validation Accuracy')\n",
    "plt.xlabel('Epoch')\n",
    "plt.ylabel('Accuracy')\n",
    "plt.legend()\n",
    "plt.show()"
   ]
  },
  {
   "cell_type": "markdown",
   "id": "c1e8e836",
   "metadata": {},
   "source": [
    "Conclusion: vanilla mlp isn't that good."
   ]
  }
 ],
 "metadata": {
  "kernelspec": {
   "display_name": "study-cifar",
   "language": "python",
   "name": "python3"
  },
  "language_info": {
   "codemirror_mode": {
    "name": "ipython",
    "version": 3
   },
   "file_extension": ".py",
   "mimetype": "text/x-python",
   "name": "python",
   "nbconvert_exporter": "python",
   "pygments_lexer": "ipython3",
   "version": "3.9.23"
  }
 },
 "nbformat": 4,
 "nbformat_minor": 5
}
